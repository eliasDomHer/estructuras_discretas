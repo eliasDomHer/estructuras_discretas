{
  "nbformat": 4,
  "nbformat_minor": 0,
  "metadata": {
    "colab": {
      "name": "clase_01_estructuras_discretas",
      "provenance": [],
      "collapsed_sections": [],
      "authorship_tag": "ABX9TyOYT2dOAfKQsc5X1qNjbldF",
      "include_colab_link": true
    },
    "kernelspec": {
      "name": "python3",
      "display_name": "Python 3"
    },
    "language_info": {
      "name": "python"
    }
  },
  "cells": [
    {
      "cell_type": "markdown",
      "metadata": {
        "id": "view-in-github",
        "colab_type": "text"
      },
      "source": [
        "<a href=\"https://colab.research.google.com/github/eliasDomHer/estructuras_discretas/blob/main/clase_01_estructuras_discretas.ipynb\" target=\"_parent\"><img src=\"https://colab.research.google.com/assets/colab-badge.svg\" alt=\"Open In Colab\"/></a>"
      ]
    },
    {
      "cell_type": "markdown",
      "metadata": {
        "id": "_3FLJcfMN1V4"
      },
      "source": [
        "# **Estructuras Discretas**"
      ]
    },
    {
      "cell_type": "code",
      "metadata": {
        "id": "wuClk5drO0aQ"
      },
      "source": [
        "import itertools as it\n",
        "G=[\"Joseph\", \"Esmeralda\", \"Guillermo\", \"Jair\", \"Angel\"]"
      ],
      "execution_count": 22,
      "outputs": []
    },
    {
      "cell_type": "markdown",
      "metadata": {
        "id": "bYMMJu8nN9Fl"
      },
      "source": [
        "## *Combinaciones*"
      ]
    },
    {
      "cell_type": "markdown",
      "metadata": {
        "id": "LjLfzVDIOZZo"
      },
      "source": [
        "¿Cuántos equipos de tres elementos puedo formar en el conjunto\n",
        "G={Joseph, Esmeralda, Guillermo, Jair, Angel}?"
      ]
    },
    {
      "cell_type": "code",
      "metadata": {
        "id": "4RVWQ2jUOKR2"
      },
      "source": [
        "list(it.combinations(G, 3))"
      ],
      "execution_count": null,
      "outputs": []
    },
    {
      "cell_type": "markdown",
      "metadata": {
        "id": "iKLiFeRaOpzU"
      },
      "source": [
        "## *Permutaciones*"
      ]
    },
    {
      "cell_type": "markdown",
      "metadata": {
        "id": "opFj0S0sOXLJ"
      },
      "source": [
        "¿Cuántos equipos de tres elementos puedo formar con el conjunto anterior, si van a ocupar el puesto de presidente, secretario y tesorero?"
      ]
    },
    {
      "cell_type": "code",
      "metadata": {
        "id": "vBb6ptGsOj98"
      },
      "source": [
        "list(it.permutations(G, 3))"
      ],
      "execution_count": null,
      "outputs": []
    }
  ]
}